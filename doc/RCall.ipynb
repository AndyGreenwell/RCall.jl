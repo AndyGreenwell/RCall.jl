{
 "metadata": {
  "language": "Julia",
  "name": "",
  "signature": "sha256:42c1d6512a150d465169458c3e19d4220d3e70a34b7457c46f5767ef6080ec3c"
 },
 "nbformat": 3,
 "nbformat_minor": 0,
 "worksheets": [
  {
   "cells": [
    {
     "cell_type": "heading",
     "level": 1,
     "metadata": {},
     "source": [
      "RCall: Embedding R in Julia"
     ]
    },
    {
     "cell_type": "markdown",
     "metadata": {},
     "source": [
      "Because [Julia](http://julialang.org), a language for technical computing, is recently developed (version 0.3.6 is the most recent at the time of writing) many of the facilities in other languages are not yet available.  In some cases it will make sense to reimplement code from other languages in `Julia` but in other cases it doesn't.\n",
      "\n",
      "The most widely used language in statistics is [R](http://www.r-project.org), which is well-established with a mature infrastructure. In particular there are several thousand R packages that implement a wide variety of statistical techniques.  Obviously this wealth of software is not going to be reimplemented overnight.  It is desirable to be able to access R and R packages from within Julia.\n",
      "\n",
      "Also, one of the admirable properties of R is that it has a sophisticated system for storing data sets and their metadata compactly.  It is expected that R packages will provide data sets to illustrate techniques and to provide reference results against which to compare other implementations.  Even though a data archival format for Julia is available in the [HDF5](https://github.com/timholy/HDF5/) package, it does not by itself provide access to all the data sets that already exist in R packages.\n",
      "\n",
      "The next section of the notebook demonstrates accessing R data sets from Julia.  This is followed by a section on using R functions from Julia.  The implementation of `RCall` will be interesting to some, especially because it is a pure Julia implementation.  In other words there is no need to write \"glue\" code in C or C++ to be able to access the C functions in the R API (Applications Programming Interface).  This implementation is described in the third section."
     ]
    },
    {
     "cell_type": "heading",
     "level": 2,
     "metadata": {},
     "source": [
      "Accessing data sets in R packages from Julia"
     ]
    },
    {
     "cell_type": "markdown",
     "metadata": {},
     "source": [
      "The `Rcall` package is installed by\n",
      "```julia\n",
      "Pkg.add(\"RCall\")\n",
      "```\n",
      "In a typical installation the shell commands `R RHOME` and `Rscript` are called to determine the location of R's shared library and the values of some environment variables.  A successful installation requires `R` and `Rscript` to be on the user's search path.\n",
      "\n",
      "The `RCall` package is attached to the current Julia session with\n",
      "```julia\n",
      "using RCall\n",
      "```\n",
      "It is advisable to attach the `DataArrays` and `DataFrames` package at the same time."
     ]
    },
    {
     "cell_type": "code",
     "collapsed": false,
     "input": [
      "using DataArrays,DataFrames,RCall"
     ],
     "language": "python",
     "metadata": {},
     "outputs": [],
     "prompt_number": 1
    },
    {
     "cell_type": "markdown",
     "metadata": {},
     "source": [
      "The `Rcall` package exports a `dataset` function that returns a `DataArray` or `DataFrame` object from the embedded R process.  There are methods for a Julia `Symbol` type or a character string. A symbol is created by prepending `:` to its name."
     ]
    },
    {
     "cell_type": "code",
     "collapsed": false,
     "input": [
      "form = dataset(:Formaldehyde)"
     ],
     "language": "python",
     "metadata": {},
     "outputs": [
      {
       "html": [
        "<table class=\"data-frame\"><tr><th></th><th>carb</th><th>optden</th></tr><tr><th>1</th><td>0.1</td><td>0.086</td></tr><tr><th>2</th><td>0.3</td><td>0.269</td></tr><tr><th>3</th><td>0.5</td><td>0.446</td></tr><tr><th>4</th><td>0.6</td><td>0.538</td></tr><tr><th>5</th><td>0.7</td><td>0.626</td></tr><tr><th>6</th><td>0.9</td><td>0.782</td></tr></table>"
       ],
       "metadata": {},
       "output_type": "pyout",
       "prompt_number": 2,
       "text": [
        "6x2 DataFrame\n",
        "| Row | carb | optden |\n",
        "|-----|------|--------|\n",
        "| 1   | 0.1  | 0.086  |\n",
        "| 2   | 0.3  | 0.269  |\n",
        "| 3   | 0.5  | 0.446  |\n",
        "| 4   | 0.6  | 0.538  |\n",
        "| 5   | 0.7  | 0.626  |\n",
        "| 6   | 0.9  | 0.782  |"
       ]
      }
     ],
     "prompt_number": 2
    },
    {
     "cell_type": "code",
     "collapsed": false,
     "input": [
      "typeof(form)"
     ],
     "language": "python",
     "metadata": {},
     "outputs": [
      {
       "metadata": {},
       "output_type": "pyout",
       "prompt_number": 3,
       "text": [
        "DataFrame (constructor with 11 methods)"
       ]
      }
     ],
     "prompt_number": 3
    },
    {
     "cell_type": "code",
     "collapsed": false,
     "input": [
      "names(form)"
     ],
     "language": "python",
     "metadata": {},
     "outputs": [
      {
       "metadata": {},
       "output_type": "pyout",
       "prompt_number": 4,
       "text": [
        "2-element Array{Symbol,1}:\n",
        " :carb  \n",
        " :optden"
       ]
      }
     ],
     "prompt_number": 4
    },
    {
     "cell_type": "code",
     "collapsed": false,
     "input": [
      "typeof(form[:carb])"
     ],
     "language": "python",
     "metadata": {},
     "outputs": [
      {
       "metadata": {},
       "output_type": "pyout",
       "prompt_number": 5,
       "text": [
        "DataArray{Float64,1} (constructor with 1 method)"
       ]
      }
     ],
     "prompt_number": 5
    },
    {
     "cell_type": "markdown",
     "metadata": {},
     "source": [
      "If the data set is in a package not currently on the R search list the package must first be attached.  The `R.library` function is provided for this purpose.  This function returns the packages on the search path but as an opaque pointer."
     ]
    },
    {
     "cell_type": "code",
     "collapsed": false,
     "input": [
      "R.library(\"robustbase\")"
     ],
     "language": "python",
     "metadata": {},
     "outputs": [
      {
       "metadata": {},
       "output_type": "pyout",
       "prompt_number": 6,
       "text": [
        "SEXP{16}(Ptr{Void} @0x00000000075a6e78)"
       ]
      }
     ],
     "prompt_number": 6
    },
    {
     "cell_type": "markdown",
     "metadata": {},
     "source": [
      "To display the result using the Julia print method, apply `dataset` to the result."
     ]
    },
    {
     "cell_type": "code",
     "collapsed": false,
     "input": [
      "dataset(ans)"
     ],
     "language": "python",
     "metadata": {},
     "outputs": [
      {
       "metadata": {},
       "output_type": "pyout",
       "prompt_number": 7,
       "text": [
        "8-element DataArray{Union(ASCIIString,UTF8String),1}:\n",
        " \"robustbase\"\n",
        " \"stats\"     \n",
        " \"graphics\"  \n",
        " \"grDevices\" \n",
        " \"utils\"     \n",
        " \"datasets\"  \n",
        " \"methods\"   \n",
        " \"base\"      "
       ]
      }
     ],
     "prompt_number": 7
    },
    {
     "cell_type": "code",
     "collapsed": false,
     "input": [
      "coleman = dataset(\"coleman\")"
     ],
     "language": "python",
     "metadata": {},
     "outputs": [
      {
       "html": [
        "<table class=\"data-frame\"><tr><th></th><th>salaryP</th><th>fatherWc</th><th>sstatus</th><th>teacherSc</th><th>motherLev</th><th>Y</th></tr><tr><th>1</th><td>3.83</td><td>28.87</td><td>7.2</td><td>26.6</td><td>6.19</td><td>37.01</td></tr><tr><th>2</th><td>2.89</td><td>20.1</td><td>-11.71</td><td>24.4</td><td>5.17</td><td>26.51</td></tr><tr><th>3</th><td>2.86</td><td>69.05</td><td>12.32</td><td>25.7</td><td>7.04</td><td>36.51</td></tr><tr><th>4</th><td>2.92</td><td>65.4</td><td>14.28</td><td>25.7</td><td>7.1</td><td>40.7</td></tr><tr><th>5</th><td>3.06</td><td>29.59</td><td>6.31</td><td>25.4</td><td>6.15</td><td>37.1</td></tr><tr><th>6</th><td>2.07</td><td>44.82</td><td>6.16</td><td>21.6</td><td>6.41</td><td>33.9</td></tr><tr><th>7</th><td>2.52</td><td>77.37</td><td>12.7</td><td>24.9</td><td>6.86</td><td>41.8</td></tr><tr><th>8</th><td>2.45</td><td>24.67</td><td>-0.17</td><td>25.01</td><td>5.78</td><td>33.4</td></tr><tr><th>9</th><td>3.13</td><td>65.01</td><td>9.85</td><td>26.6</td><td>6.51</td><td>41.01</td></tr><tr><th>10</th><td>2.44</td><td>9.99</td><td>-0.05</td><td>28.01</td><td>5.57</td><td>37.2</td></tr><tr><th>11</th><td>2.09</td><td>12.2</td><td>-12.86</td><td>23.51</td><td>5.62</td><td>23.3</td></tr><tr><th>12</th><td>2.52</td><td>22.55</td><td>0.92</td><td>23.6</td><td>5.34</td><td>35.2</td></tr><tr><th>13</th><td>2.22</td><td>14.3</td><td>4.77</td><td>24.51</td><td>5.8</td><td>34.9</td></tr><tr><th>14</th><td>2.67</td><td>31.79</td><td>-0.96</td><td>25.8</td><td>6.19</td><td>33.1</td></tr><tr><th>15</th><td>2.71</td><td>11.6</td><td>-16.04</td><td>25.2</td><td>5.62</td><td>22.7</td></tr><tr><th>16</th><td>3.14</td><td>68.47</td><td>10.62</td><td>25.01</td><td>6.94</td><td>39.7</td></tr><tr><th>17</th><td>3.54</td><td>42.64</td><td>2.66</td><td>25.01</td><td>6.33</td><td>31.8</td></tr><tr><th>18</th><td>2.52</td><td>16.7</td><td>-10.99</td><td>24.8</td><td>6.01</td><td>31.7</td></tr><tr><th>19</th><td>2.68</td><td>86.27</td><td>15.03</td><td>25.51</td><td>7.51</td><td>43.1</td></tr><tr><th>20</th><td>2.37</td><td>76.73</td><td>12.77</td><td>24.51</td><td>6.96</td><td>41.01</td></tr></table>"
       ],
       "metadata": {},
       "output_type": "pyout",
       "prompt_number": 8,
       "text": [
        "20x6 DataFrame\n",
        "| Row | salaryP | fatherWc | sstatus | teacherSc | motherLev | Y     |\n",
        "|-----|---------|----------|---------|-----------|-----------|-------|\n",
        "| 1   | 3.83    | 28.87    | 7.2     | 26.6      | 6.19      | 37.01 |\n",
        "| 2   | 2.89    | 20.1     | -11.71  | 24.4      | 5.17      | 26.51 |\n",
        "| 3   | 2.86    | 69.05    | 12.32   | 25.7      | 7.04      | 36.51 |\n",
        "| 4   | 2.92    | 65.4     | 14.28   | 25.7      | 7.1       | 40.7  |\n",
        "| 5   | 3.06    | 29.59    | 6.31    | 25.4      | 6.15      | 37.1  |\n",
        "| 6   | 2.07    | 44.82    | 6.16    | 21.6      | 6.41      | 33.9  |\n",
        "| 7   | 2.52    | 77.37    | 12.7    | 24.9      | 6.86      | 41.8  |\n",
        "| 8   | 2.45    | 24.67    | -0.17   | 25.01     | 5.78      | 33.4  |\n",
        "| 9   | 3.13    | 65.01    | 9.85    | 26.6      | 6.51      | 41.01 |\n",
        "| 10  | 2.44    | 9.99     | -0.05   | 28.01     | 5.57      | 37.2  |\n",
        "| 11  | 2.09    | 12.2     | -12.86  | 23.51     | 5.62      | 23.3  |\n",
        "| 12  | 2.52    | 22.55    | 0.92    | 23.6      | 5.34      | 35.2  |\n",
        "| 13  | 2.22    | 14.3     | 4.77    | 24.51     | 5.8       | 34.9  |\n",
        "| 14  | 2.67    | 31.79    | -0.96   | 25.8      | 6.19      | 33.1  |\n",
        "| 15  | 2.71    | 11.6     | -16.04  | 25.2      | 5.62      | 22.7  |\n",
        "| 16  | 3.14    | 68.47    | 10.62   | 25.01     | 6.94      | 39.7  |\n",
        "| 17  | 3.54    | 42.64    | 2.66    | 25.01     | 6.33      | 31.8  |\n",
        "| 18  | 2.52    | 16.7     | -10.99  | 24.8      | 6.01      | 31.7  |\n",
        "| 19  | 2.68    | 86.27    | 15.03   | 25.51     | 7.51      | 43.1  |\n",
        "| 20  | 2.37    | 76.73    | 12.77   | 24.51     | 6.96      | 41.01 |"
       ]
      }
     ],
     "prompt_number": 8
    },
    {
     "cell_type": "markdown",
     "metadata": {},
     "source": [
      "(Note to self: write new methods for `dataset` so these operations can be combined as `dataset(\"coleman\",\"robustbase\")` or `dataset(\"robustbase::coleman\")`."
     ]
    },
    {
     "cell_type": "heading",
     "level": 2,
     "metadata": {},
     "source": [
      "Calling R functions from Julia"
     ]
    },
    {
     "cell_type": "markdown",
     "metadata": {},
     "source": [
      "The general method for calling an R function from Julia is `reval(rparse(\"R expression\"))`.  For example, a robust linear model can be fit to the `coleman` data using"
     ]
    },
    {
     "cell_type": "code",
     "collapsed": false,
     "input": [
      "m1 = reval(rparse(\"m1 <- lmrob(Y ~ .,coleman)\"))"
     ],
     "language": "python",
     "metadata": {},
     "outputs": [
      {
       "metadata": {},
       "output_type": "pyout",
       "prompt_number": 9,
       "text": [
        "SEXP{19}(Ptr{Void} @0x0000000006010f90)"
       ]
      }
     ],
     "prompt_number": 9
    },
    {
     "cell_type": "markdown",
     "metadata": {},
     "source": [
      "Note that the fitted model is assigned to a name `m1` in both the R instance and the Julia process.  This is to ensure that R's garbage collector doesn't reclaim the storage from the object.  If the object is assigned to a name in the R instance it will not be garbage collected by R.  In Julia the `m1` object just exists as a pointer.  That is, the contents of the `m1` object in R have not yet been copied over to storage allocated by Julia.  \n",
      "\n",
      "In this case we used the same name, `m1`, in Julia and in R but this is not necessary.\n",
      "\n",
      "The results of applying an extractor function, like `coef`, can be immediately converted to a Julia object."
     ]
    },
    {
     "cell_type": "code",
     "collapsed": false,
     "input": [
      "m1c = dataset(reval(rparse(\"coef(m1)\")))"
     ],
     "language": "python",
     "metadata": {},
     "outputs": [
      {
       "metadata": {},
       "output_type": "pyout",
       "prompt_number": 10,
       "text": [
        "6-element DataArray{Float64,1}:\n",
        " 30.5023   \n",
        " -1.66615  \n",
        "  0.0842538\n",
        "  0.667737 \n",
        "  1.16778  \n",
        " -4.13657  "
       ]
      }
     ],
     "prompt_number": 10
    },
    {
     "cell_type": "code",
     "collapsed": false,
     "input": [
      "m1ctbl = dataset(reval(rparse(\"coef(summary(m1))\")))"
     ],
     "language": "python",
     "metadata": {},
     "outputs": [
      {
       "metadata": {},
       "output_type": "pyout",
       "prompt_number": 11,
       "text": [
        "6x4 DataArray{Float64,2}:\n",
        " 30.5023     6.7126      4.54404  0.000458891\n",
        " -1.66615    0.431287   -3.8632   0.00172216 \n",
        "  0.0842538  0.0146747   5.74144  5.10032e-5 \n",
        "  0.667737   0.0338509  19.7258   1.29652e-11\n",
        "  1.16778    0.109833   10.6323   4.34864e-8 \n",
        " -4.13657    0.920837   -4.49218  0.00050672 "
       ]
      }
     ],
     "prompt_number": 11
    },
    {
     "cell_type": "markdown",
     "metadata": {},
     "source": [
      "At present, applying `dataset` to vectors or arrays does not preserve the column or row names from R.  The information is in the object that is returned from R but the Julia `dataset` methods only preserve the names for R objects that are `data.frame`s."
     ]
    },
    {
     "cell_type": "heading",
     "level": 2,
     "metadata": {},
     "source": [
      "Internal representation of R objects"
     ]
    },
    {
     "cell_type": "markdown",
     "metadata": {},
     "source": [
      "R's C API is documented in the\n",
      "[Writing R Extensions](http://cran.rstudio.com/doc/manuals/r-release/R-exts.html)\n",
      "manual.  The first thing to learn is that essentially all objects in R\n",
      "are instances of a union of C structs.  The union is called an `SEXPREC` (symbolic\n",
      "expression).  The `SEXP` type is a pointer to an `SEXPREC`.  The\n",
      "majority of the C functions in the R API pass one or more `SEXP`\n",
      "arguments and return an `SEXP`.\n",
      "\n",
      "The various types of `SEXPREC`s are distinguished by a code in the\n",
      "initial 32-bit word of the structure.  These 5-bit codes are given\n",
      "symbolic names such as NILSXP, SYMSXP, ... in the R header files and\n",
      "these names are reproduced in the `src/R_h.jl` file of the `RCall`\n",
      "package.\n",
      "\n",
      "```julia\n",
      "const NILSXP     =  0 # NULL in R\n",
      "const SYMSXP     =  1 # R Symbol\n",
      "const LISTSXP    =  2 # internal \"pairs list\", the R list type is 19\n",
      "const CLOSXP     =  3 # closures\n",
      "const ENVSXP     =  4 # environments\n",
      "const PROMSXP    =  5 # promises: unevaluated closure arguments\n",
      "const LANGSXP    =  6 # language constructs (special lists \n",
      "const SPECIALSXP =  7 # special forms \n",
      "const BUILTINSXP =  8 # builtin non-special forms \n",
      "const CHARSXP    =  9 # \"scalar\" string type (internal only\n",
      "const LGLSXP     = 10 # logical vectors \n",
      "# 11 and 12 were factors and ordered factors in the 1990s \n",
      "const INTSXP     = 13 # integer vectors \n",
      "const REALSXP    = 14 # real variables \n",
      "const CPLXSXP    = 15 # complex variables \n",
      "const STRSXP     = 16 # string vectors \n",
      "const DOTSXP     = 17 # dot-dot-dot object \n",
      "const ANYSXP     = 18 # make \"any\" args work.\n",
      "const VECSXP     = 19 # generic vectors \n",
      "const EXPRSXP    = 20 # expressions vectors \n",
      "const BCODESXP   = 21 # byte code \n",
      "const EXTPTRSXP  = 22 # external pointer \n",
      "const WEAKREFSXP = 23 # weak reference \n",
      "const RAWSXP     = 24 # raw bytes \n",
      "const S4SXP      = 25 # S4, non-vector \n",
      "```\n",
      "\n",
      "An `SEXP` is represented in `RCall` as a templated type, also called\n",
      "`SEXP`, which contains only a void pointer.\n",
      "\n",
      "```julia\n",
      "type SEXP{N}     # N is the R SEXPREC type (see R_h.jl)\n",
      "    p::Ptr{Void}\n",
      "end\n",
      "                # determine the R SEXPREC type from the Ptr{Void}\n",
      "sexp(p::Ptr{Void}) = SEXP{unsafe_load(convert(Ptr{Cint},p)) & 0x1f}(p)\n",
      "```\n",
      "\n",
      "The purpose of the templated type is to allow dispatch on the kind of\n",
      "`SEXP`.  All Julia functions are generic functions that use multiple\n",
      "dispatch (i.e. the choice of method is not based solely on the first\n",
      "argument to the function; it is based on the entire argument\n",
      "signature).  If that last sentence is unintelligible to you just\n",
      "accept that it is very useful to know the type of an `SEXP` without\n",
      "needing to dig that information out of the structure each time you use\n",
      "one.\n",
      "\n",
      "The expression\n",
      "```julia\n",
      "unsafe_load(convert(Ptr{Cint},p) & 0x1f)\n",
      "```\n",
      "in the definition of this `sexp` method accesses the first 32-bit\n",
      "word in the memory pointed to by `p` as an `int`\n",
      "type in C and uses a mask to return the value of the trailing 5 bits.\n",
      "\n",
      "At present the SEXP codes are displayed as numbers so you need to remember that"
     ]
    },
    {
     "cell_type": "code",
     "collapsed": false,
     "input": [
      "typeof(m1)"
     ],
     "language": "python",
     "metadata": {},
     "outputs": [
      {
       "metadata": {},
       "output_type": "pyout",
       "prompt_number": 12,
       "text": [
        "SEXP{19} (constructor with 1 method)"
       ]
      }
     ],
     "prompt_number": 12
    },
    {
     "cell_type": "markdown",
     "metadata": {},
     "source": [
      "means that `m1` is an R list. (Note to self: write a `show` method for the Julia `SEXP` type that shows the name, not the number.)\n",
      "\n",
      "You can check the names"
     ]
    },
    {
     "cell_type": "code",
     "collapsed": false,
     "input": [
      "names(m1)"
     ],
     "language": "python",
     "metadata": {},
     "outputs": [
      {
       "metadata": {},
       "output_type": "pyout",
       "prompt_number": 13,
       "text": [
        "22-element Array{Union(ASCIIString,UTF8String),1}:\n",
        " \"coefficients\"  \n",
        " \"scale\"         \n",
        " \"residuals\"     \n",
        " \"loss\"          \n",
        " \"converged\"     \n",
        " \"iter\"          \n",
        " \"fitted.values\" \n",
        " \"rweights\"      \n",
        " \"control\"       \n",
        " \"init.S\"        \n",
        " \"qr\"            \n",
        " \"rank\"          \n",
        " \"ostats\"        \n",
        " \"cov\"           \n",
        " \"df.residual\"   \n",
        " \"degree.freedom\"\n",
        " \"xlevels\"       \n",
        " \"call\"          \n",
        " \"terms\"         \n",
        " \"assign\"        \n",
        " \"model\"         \n",
        " \"x\"             "
       ]
      }
     ],
     "prompt_number": 13
    },
    {
     "cell_type": "markdown",
     "metadata": {},
     "source": [
      "and access individual components by location"
     ]
    },
    {
     "cell_type": "code",
     "collapsed": false,
     "input": [
      "dataset(m1[1])"
     ],
     "language": "python",
     "metadata": {},
     "outputs": [
      {
       "metadata": {},
       "output_type": "pyout",
       "prompt_number": 14,
       "text": [
        "6-element DataArray{Float64,1}:\n",
        " 30.5023   \n",
        " -1.66615  \n",
        "  0.0842538\n",
        "  0.667737 \n",
        "  1.16778  \n",
        " -4.13657  "
       ]
      }
     ],
     "prompt_number": 14
    },
    {
     "cell_type": "markdown",
     "metadata": {},
     "source": [
      "(Note to self: Create a `getindex` method for `SEXP` that can use names.)"
     ]
    },
    {
     "cell_type": "heading",
     "level": 2,
     "metadata": {},
     "source": [
      "Mapping functions from the C API for R"
     ]
    },
    {
     "cell_type": "markdown",
     "metadata": {},
     "source": [
      "The file defining the C API for R is `R.h` in the directory stored as `ENV[\"R_INCLUDE_DIR\"]`.  In my case this is"
     ]
    },
    {
     "cell_type": "code",
     "collapsed": false,
     "input": [
      "joinpath(ENV[\"R_INCLUDE_DIR\"],\"R.h\")"
     ],
     "language": "python",
     "metadata": {},
     "outputs": [
      {
       "metadata": {},
       "output_type": "pyout",
       "prompt_number": 15,
       "text": [
        "\"/usr/share/R/include/R.h\""
       ]
      }
     ],
     "prompt_number": 15
    },
    {
     "cell_type": "markdown",
     "metadata": {},
     "source": [
      "Like many such files, `R.h` includes several other header files from that directory, the most important of which is `Rinternals.h`.\n",
      "\n",
      "A typical function declaration in `Rinternals.h` is\n",
      "```c\n",
      "Rboolean Rf_isVector(SEXP);\n",
      "```\n",
      "\n",
      "We can call this function directly from Julia using `ccall`.  We define a Julia function `isRVector` to do this."
     ]
    },
    {
     "cell_type": "code",
     "collapsed": false,
     "input": [
      "isRVector(s::SEXP) = ccall((:Rf_isVector,libR),Bool,(Ptr{Void},),s.p)"
     ],
     "language": "python",
     "metadata": {},
     "outputs": [
      {
       "metadata": {},
       "output_type": "pyout",
       "prompt_number": 16,
       "text": [
        "isRVector (generic function with 1 method)"
       ]
      }
     ],
     "prompt_number": 16
    },
    {
     "cell_type": "code",
     "collapsed": false,
     "input": [
      "isRVector(m1)  # true because m1 is a list"
     ],
     "language": "python",
     "metadata": {},
     "outputs": [
      {
       "metadata": {},
       "output_type": "pyout",
       "prompt_number": 17,
       "text": [
        "true"
       ]
      }
     ],
     "prompt_number": 17
    },
    {
     "cell_type": "code",
     "collapsed": false,
     "input": [
      "isRVector(m1[1]) # true because the coefficients are a numeric vector"
     ],
     "language": "python",
     "metadata": {},
     "outputs": [
      {
       "metadata": {},
       "output_type": "pyout",
       "prompt_number": 18,
       "text": [
        "true"
       ]
      }
     ],
     "prompt_number": 18
    },
    {
     "cell_type": "code",
     "collapsed": false,
     "input": [
      "typeof(m1[18])  # the \"call\" component is a LANGSXP (function call)"
     ],
     "language": "python",
     "metadata": {},
     "outputs": [
      {
       "metadata": {},
       "output_type": "pyout",
       "prompt_number": 19,
       "text": [
        "SEXP{6} (constructor with 1 method)"
       ]
      }
     ],
     "prompt_number": 19
    },
    {
     "cell_type": "code",
     "collapsed": false,
     "input": [
      "isRVector(m1[18]) # false because a LANGSXP does not behave like a vector"
     ],
     "language": "python",
     "metadata": {},
     "outputs": [
      {
       "metadata": {},
       "output_type": "pyout",
       "prompt_number": 20,
       "text": [
        "false"
       ]
      }
     ],
     "prompt_number": 20
    },
    {
     "cell_type": "markdown",
     "metadata": {},
     "source": [
      "We can simplify many of these expressions by creating a `convert` method to produce a `Ptr{Void}` from the Julia `SEXP` type\n",
      "```julia\n",
      "Base.convert(::Type{Ptr{Void}},s::SEXP) = s.p\n",
      "```\n",
      "\n",
      "In fact, because all these predicate functions have the same signature, we can (and do) define corresponding Julia functions using metaprogramming tools.\n",
      "```\n",
      "## predicates applied to an SEXP\n",
      "for sym in (:isArray,:isComplex,:isEnvironment,:isExpression,\n",
      "            :isFactor,:isFrame,:isFree,:isFunction,:isInteger,\n",
      "            :isLanguage,:isList,:isLogical,:isSymbol,:isMatrix,\n",
      "            :isNewList,:isNull,:isNumeric,:isNumber,:isObject,\n",
      "            :isOrdered,:isPairList,:isPrimitive,:isReal,\n",
      "            :isS4,:isString,:isTs,:isUnordered,:isUnsorted,\n",
      "            :isUserBinop,:isValidString,:isValidStringF,\n",
      "            :isVector,:isVectorAtomic,:isVectorizable,\n",
      "            :isVectorList)\n",
      "    @eval $sym(s::SEXP) = ccall(($(string(\"Rf_\",sym)),libR),Bool,(Ptr{Void},),s)\n",
      "end\n",
      "```\n",
      "\n",
      "Many of these functions; `isComplex`, `isExpression`, `isList`, `isLogical`, `isNewList`,`isSymbol`, `isReal` and `isS4`, are redundant because the Julia `SEXP` type is a templated type with the code built-in.  At present only a few of these functions are exported.  This can change if interest is expressed."
     ]
    },
    {
     "cell_type": "code",
     "collapsed": false,
     "input": [
      "RCall.isArray(m1[1])"
     ],
     "language": "python",
     "metadata": {},
     "outputs": [
      {
       "metadata": {},
       "output_type": "pyout",
       "prompt_number": 21,
       "text": [
        "false"
       ]
      }
     ],
     "prompt_number": 21
    },
    {
     "cell_type": "code",
     "collapsed": false,
     "input": [
      "RCall.isArray(m1[21])"
     ],
     "language": "python",
     "metadata": {},
     "outputs": [
      {
       "metadata": {},
       "output_type": "pyout",
       "prompt_number": 22,
       "text": [
        "false"
       ]
      }
     ],
     "prompt_number": 22
    },
    {
     "cell_type": "heading",
     "level": 2,
     "metadata": {},
     "source": [
      "Creating and manipulating Julia SEXP objects"
     ]
    },
    {
     "cell_type": "markdown",
     "metadata": {},
     "source": [
      "There are several methods for the `sexp` generic function that create a Julia SEXP from other types of Julia objects.\n",
      "\n",
      "For example, an R symbol is retrieved (installing it in the symbol table if necessary) via a C function whose signature is\n",
      "```c\n",
      "SEXP Rf_install(const char *);\n",
      "```\n",
      "\n",
      "We define an `sexp` method for the `Symbol` type in Julia as\n",
      "```julia\n",
      "function sexp(s::Symbol)\n",
      "    sexp(ccall((:Rf_install,libR),Ptr{Void},(Ptr{Uint8},),\n",
      "               string(s)))\n",
      "end\n",
      "```\n",
      "\n",
      "(If you know about R's garbage collection and are wondering why the result is not protected, objects in the symbol table are never garbage collected.)"
     ]
    },
    {
     "cell_type": "code",
     "collapsed": false,
     "input": [
      "sexp(:foo)"
     ],
     "language": "python",
     "metadata": {},
     "outputs": [
      {
       "metadata": {},
       "output_type": "pyout",
       "prompt_number": 23,
       "text": [
        "SEXP{1}(Ptr{Void} @0x0000000005cbb690)"
       ]
      }
     ],
     "prompt_number": 23
    },
    {
     "cell_type": "code",
     "collapsed": false,
     "input": [
      "rprint(ans)"
     ],
     "language": "python",
     "metadata": {},
     "outputs": [
      {
       "output_type": "stream",
       "stream": "stdout",
       "text": [
        "foo\n"
       ]
      }
     ],
     "prompt_number": 24
    }
   ],
   "metadata": {}
  }
 ]
}